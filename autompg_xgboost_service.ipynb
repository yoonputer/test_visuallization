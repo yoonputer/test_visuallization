{
  "nbformat": 4,
  "nbformat_minor": 0,
  "metadata": {
    "colab": {
      "name": "autompg_xgboost_service.ipynb",
      "provenance": [],
      "collapsed_sections": [],
      "authorship_tag": "ABX9TyP3wDHUJYwlCZdnk3aLE3nK",
      "include_colab_link": true
    },
    "kernelspec": {
      "name": "python3",
      "display_name": "Python 3"
    },
    "language_info": {
      "name": "python"
    }
  },
  "cells": [
    {
      "cell_type": "markdown",
      "metadata": {
        "id": "view-in-github",
        "colab_type": "text"
      },
      "source": [
        "<a href=\"https://colab.research.google.com/github/yoonputer/test_visuallization/blob/master/autompg_xgboost_service.ipynb\" target=\"_parent\"><img src=\"https://colab.research.google.com/assets/colab-badge.svg\" alt=\"Open In Colab\"/></a>"
      ]
    },
    {
      "cell_type": "markdown",
      "metadata": {
        "id": "APRTAVJPnW_v"
      },
      "source": [
        "# load pickle with xgboost and scaler"
      ]
    },
    {
      "cell_type": "code",
      "metadata": {
        "colab": {
          "base_uri": "https://localhost:8080/"
        },
        "id": "Gcw1_LC7m5Vj",
        "outputId": "5ae8bd7d-6a31-4bcb-9f7d-e87105fabfc4"
      },
      "source": [
        "import pickle\n",
        "model = pickle.load(open('./xgb_model.pkl','rb'))\n",
        "type(model)"
      ],
      "execution_count": 1,
      "outputs": [
        {
          "output_type": "stream",
          "text": [
            "[04:53:30] WARNING: /workspace/src/objective/regression_obj.cu:152: reg:linear is now deprecated in favor of reg:squarederror.\n"
          ],
          "name": "stdout"
        },
        {
          "output_type": "execute_result",
          "data": {
            "text/plain": [
              "xgboost.sklearn.XGBRegressor"
            ]
          },
          "metadata": {
            "tags": []
          },
          "execution_count": 1
        }
      ]
    },
    {
      "cell_type": "code",
      "metadata": {
        "colab": {
          "base_uri": "https://localhost:8080/"
        },
        "id": "lWNhNvA7nK4_",
        "outputId": "ec196795-51cc-4402-daee-23b727b916e9"
      },
      "source": [
        "scaler = pickle.load(open('./scaler_xgb.pkl','rb'))\n",
        "type(scaler)"
      ],
      "execution_count": 2,
      "outputs": [
        {
          "output_type": "execute_result",
          "data": {
            "text/plain": [
              "sklearn.preprocessing._data.StandardScaler"
            ]
          },
          "metadata": {
            "tags": []
          },
          "execution_count": 2
        }
      ]
    },
    {
      "cell_type": "markdown",
      "metadata": {
        "id": "pa7pf7KU_4nw"
      },
      "source": [
        "# Predict"
      ]
    },
    {
      "cell_type": "code",
      "metadata": {
        "id": "n0K5y5rUT0O4"
      },
      "source": [
        "import numpy as np"
      ],
      "execution_count": 3,
      "outputs": []
    },
    {
      "cell_type": "code",
      "metadata": {
        "id": "ZdYimveOO05J"
      },
      "source": [
        "def onehotcylinder(cylinders):\n",
        "  if cylinders == 3:\n",
        "    cylinder = np.array([1,0,0,0,0])\n",
        "  elif cylinders == 4:\n",
        "    cylinder = np.array([0,1,0,0,0])\n",
        "  elif cylinders == 5:\n",
        "    cylinder = np.array([0,0,1,0,0])\n",
        "  elif cylinders == 6:\n",
        "    cylinder = np.array([0,0,0,1,0])\n",
        "  elif cylinders == 8:\n",
        "    cylinder = np.array([0,0,0,0,1])\n",
        "  return cylinder"
      ],
      "execution_count": 4,
      "outputs": []
    },
    {
      "cell_type": "code",
      "metadata": {
        "id": "8e08DbGDPESA"
      },
      "source": [
        "def onehotorigin(origin):\n",
        "  if origin == 1:\n",
        "    org = np.array([1,0,0])\n",
        "  elif origin == 2:\n",
        "    org = np.array([0,1,0])\n",
        "  elif origin == 3:\n",
        "    org = np.array([0,0,1])\n",
        "  return org"
      ],
      "execution_count": 5,
      "outputs": []
    },
    {
      "cell_type": "code",
      "metadata": {
        "id": "D8efJ73ZPa3v"
      },
      "source": [
        "def onehoten(cylinders, origin):\n",
        "  result = np.concatenate(( x_continus,onehotcylinder(cylinders),onehotorigin(origin) ),axis=None)\n",
        "  return result"
      ],
      "execution_count": 6,
      "outputs": []
    },
    {
      "cell_type": "code",
      "metadata": {
        "id": "pagr_sZeuXsA",
        "colab": {
          "base_uri": "https://localhost:8080/"
        },
        "outputId": "494b00d7-9cdd-4c6f-b251-7177a6fc0195"
      },
      "source": [
        "displacement = 307.0\n",
        "horsepower = 130.0\n",
        "weight = 3504.0\n",
        "accel = 12.0\n",
        "cylinders = 8\n",
        "origin = 1\n",
        "\n",
        "#x_customer = [[displacement, horsepower, weight, accel, cylinder, org]]\n",
        "x_continus = np.array([displacement, horsepower, weight, accel])\n",
        "\n",
        "onehoten(8,1).shape, onehoten(8,1)\n",
        "\n",
        "#[[307.0,130.0,3504.0,12.0, 8, 1]]\n",
        "#->\n",
        "#[[307.0,130.0,3504.0,12.0, {0,0,0,0,1}, {1,0,0}]]\n",
        "#->\n",
        "#[[307.0,130.0,3504.0,12.0, 0,0,0,0,1, 1,0,0]]\n"
      ],
      "execution_count": 8,
      "outputs": [
        {
          "output_type": "execute_result",
          "data": {
            "text/plain": [
              "((12,),\n",
              " array([3.070e+02, 1.300e+02, 3.504e+03, 1.200e+01, 0.000e+00, 0.000e+00,\n",
              "        0.000e+00, 0.000e+00, 1.000e+00, 1.000e+00, 0.000e+00, 0.000e+00]))"
            ]
          },
          "metadata": {
            "tags": []
          },
          "execution_count": 8
        }
      ]
    },
    {
      "cell_type": "code",
      "metadata": {
        "id": "Yk2-dypYQfke"
      },
      "source": [
        "onehoten(8,1).shape, onehoten(8,1)"
      ],
      "execution_count": null,
      "outputs": []
    },
    {
      "cell_type": "code",
      "metadata": {
        "id": "x9CsXwoICDpX"
      },
      "source": [
        "x_customer = scaler.transform([[307.0,130.0,3504.0,12.0, 0,0,0,0,1, 1,0,0]])\n",
        "x_customer.shape"
      ],
      "execution_count": null,
      "outputs": []
    },
    {
      "cell_type": "code",
      "metadata": {
        "id": "uCB9G4qqB7g2"
      },
      "source": [
        "y_pred = model.predict(x_customer)\n",
        "y_pred"
      ],
      "execution_count": null,
      "outputs": []
    },
    {
      "cell_type": "code",
      "metadata": {
        "id": "JFZmKO1WCm0b"
      },
      "source": [
        ""
      ],
      "execution_count": null,
      "outputs": []
    }
  ]
}